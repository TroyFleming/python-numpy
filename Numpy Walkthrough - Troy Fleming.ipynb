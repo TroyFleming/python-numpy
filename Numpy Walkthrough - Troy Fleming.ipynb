{
 "cells": [
  {
   "cell_type": "markdown",
   "metadata": {},
   "source": [
    "# Data Science Numpy & CSV's"
   ]
  },
  {
   "cell_type": "markdown",
   "metadata": {},
   "source": [
    "## Tasks Today:\n",
    "\n",
    "1) <b>Numpy</b> <br>\n",
    " &nbsp;&nbsp;&nbsp;&nbsp; a) Python List Comparison <br>\n",
    " &nbsp;&nbsp;&nbsp;&nbsp; b) In-Class Exercise #1 <br>\n",
    " &nbsp;&nbsp;&nbsp;&nbsp; c) Importing <br>\n",
    " &nbsp;&nbsp;&nbsp;&nbsp; d) Creating an NDArray <br>\n",
    " &nbsp;&nbsp;&nbsp;&nbsp;&nbsp;&nbsp;&nbsp;&nbsp; - np.array() <br>\n",
    " &nbsp;&nbsp;&nbsp;&nbsp;&nbsp;&nbsp;&nbsp;&nbsp; - np.zeros() <br>\n",
    " &nbsp;&nbsp;&nbsp;&nbsp;&nbsp;&nbsp;&nbsp;&nbsp; - np.ones() <br>\n",
    " &nbsp;&nbsp;&nbsp;&nbsp;&nbsp;&nbsp;&nbsp;&nbsp; - np.arange() <br>\n",
    " &nbsp;&nbsp;&nbsp;&nbsp;&nbsp;&nbsp;&nbsp;&nbsp; - Making Lists into NDArrays <br>\n",
    " &nbsp;&nbsp;&nbsp;&nbsp; e) Performing Calculations on NDArrays <br>\n",
    " &nbsp;&nbsp;&nbsp;&nbsp;&nbsp;&nbsp;&nbsp;&nbsp; - Summation <br>\n",
    " &nbsp;&nbsp;&nbsp;&nbsp;&nbsp;&nbsp;&nbsp;&nbsp; - Difference <br>\n",
    " &nbsp;&nbsp;&nbsp;&nbsp;&nbsp;&nbsp;&nbsp;&nbsp; - Multiplication <br>\n",
    " &nbsp;&nbsp;&nbsp;&nbsp;&nbsp;&nbsp;&nbsp;&nbsp; - Division <br>\n",
    " &nbsp;&nbsp;&nbsp;&nbsp; f) Numpy Subsetting <br>\n",
    " &nbsp;&nbsp;&nbsp;&nbsp; g) Multi-dimensional Arrays <br>\n",
    " &nbsp;&nbsp;&nbsp;&nbsp; h) Indexing NDArrays <br>\n",
    " &nbsp;&nbsp;&nbsp;&nbsp; i) Checking NDArray Type <br>\n",
    " &nbsp;&nbsp;&nbsp;&nbsp; j) Altering NDArray Type <br>\n",
    " &nbsp;&nbsp;&nbsp;&nbsp; k) Checking the Shape <br>\n",
    " &nbsp;&nbsp;&nbsp;&nbsp; l) Altering the Shape <br>\n",
    " &nbsp;&nbsp;&nbsp;&nbsp; m) In-Class Exercise #2 <br>\n",
    " &nbsp;&nbsp;&nbsp;&nbsp; n) Complex Indexing & Assigning <br>\n",
    " &nbsp;&nbsp;&nbsp;&nbsp; o) Elementwise Multplication <br>\n",
    " &nbsp;&nbsp;&nbsp;&nbsp; p) np.where() <br>\n",
    " &nbsp;&nbsp;&nbsp;&nbsp; q) Random Sampling <br>\n",
    "\n",
    "2) <b>Working With CSV's</b> <br>\n",
    " &nbsp;&nbsp;&nbsp;&nbsp; a) Imports <br>\n",
    " &nbsp;&nbsp;&nbsp;&nbsp; b) Reading a CSV <br>\n",
    " &nbsp;&nbsp;&nbsp;&nbsp; c) Loading a CSV's Data <br>\n",
    " &nbsp;&nbsp;&nbsp;&nbsp; d) Checking Number of Records <br>\n",
    " \n",
    "3) <b>Exercises</b> <br>\n",
    " &nbsp;&nbsp;&nbsp;&nbsp; a) #1 - Calculate BMI with NDArrays <br>\n",
    " &nbsp;&nbsp;&nbsp;&nbsp; b) #2 - Find the Average Sum of Marathon Runners <br>\n",
    " &nbsp;&nbsp;&nbsp;&nbsp; c) #3 - Random Matrix Function <br>\n",
    " &nbsp;&nbsp;&nbsp;&nbsp; d) #4 - Comparing Boston Red Sox Hitting Numbers <br>"
   ]
  },
  {
   "cell_type": "markdown",
   "metadata": {},
   "source": [
    "## Numpy <br>\n",
    "\n",
    "<p>NumPy is a library for the Python programming language, adding support for large, multi-dimensional arrays and matrices, along with a large collection of high-level mathematical functions to operate on these arrays.</p>\n",
    "<ul>\n",
    "    <li>Shape = Rows & Columns</li>\n",
    "    <li>Matrix = Entire Array</li>\n",
    "    <li>Vector = Variables to be applied (same vector as the one used in physics)</li>\n",
    "    <li>Array = Similar to lists</li>\n",
    "</ul>"
   ]
  },
  {
   "cell_type": "markdown",
   "metadata": {},
   "source": [
    "#### Python List Comparison"
   ]
  },
  {
   "cell_type": "markdown",
   "metadata": {},
   "source": [
    "<p>Lists are flexible, dynamic python objects that do their job quite well. But they do not support some mathematical operations in an intuitive way. Consider the summation of two lists, $l_1$ and $l_2$</p>"
   ]
  },
  {
   "cell_type": "code",
   "execution_count": 3,
   "metadata": {},
   "outputs": [
    {
     "name": "stdout",
     "output_type": "stream",
     "text": [
      "Add regular python lists together: [1, 2, 3, 4, 5, 6]\n"
     ]
    },
    {
     "ename": "NameError",
     "evalue": "name 'L' is not defined",
     "output_type": "error",
     "traceback": [
      "\u001b[1;31m---------------------------------------------------------------------------\u001b[0m",
      "\u001b[1;31mNameError\u001b[0m                                 Traceback (most recent call last)",
      "Cell \u001b[1;32mIn[3], line 6\u001b[0m\n\u001b[0;32m      3\u001b[0m l_2 \u001b[38;5;241m=\u001b[39m [\u001b[38;5;241m4\u001b[39m,\u001b[38;5;241m5\u001b[39m,\u001b[38;5;241m6\u001b[39m]\n\u001b[0;32m      5\u001b[0m \u001b[38;5;28mprint\u001b[39m(\u001b[38;5;124mf\u001b[39m\u001b[38;5;124m'\u001b[39m\u001b[38;5;124mAdd regular python lists together: \u001b[39m\u001b[38;5;132;01m{\u001b[39;00ml_1\u001b[38;5;250m \u001b[39m\u001b[38;5;241m+\u001b[39m\u001b[38;5;250m \u001b[39ml_2\u001b[38;5;132;01m}\u001b[39;00m\u001b[38;5;124m'\u001b[39m)\n\u001b[1;32m----> 6\u001b[0m \u001b[38;5;28mprint\u001b[39m(\u001b[38;5;124mf\u001b[39m\u001b[38;5;124m'\u001b[39m\u001b[38;5;124mFind the difference between these two lists: \u001b[39m\u001b[38;5;132;01m{\u001b[39;00ml_1\u001b[38;5;250m \u001b[39m\u001b[38;5;241m-\u001b[39m\u001b[38;5;250m \u001b[39mL\u001b[38;5;241m-\u001b[39m\u001b[38;5;241m2\u001b[39m\u001b[38;5;132;01m}\u001b[39;00m\u001b[38;5;124m'\u001b[39m)\n",
      "\u001b[1;31mNameError\u001b[0m: name 'L' is not defined"
     ]
    }
   ],
   "source": [
    "# create two lists and sum both of them together (results may not be what you expect)\n",
    "l_1 = [1,2,3]\n",
    "l_2 = [4,5,6]\n",
    "\n",
    "print(f'Add regular python lists together: {l_1 + l_2}')\n",
    "print(f'Find the difference between these two lists: {l_1 - L-2}')"
   ]
  },
  {
   "cell_type": "markdown",
   "metadata": {},
   "source": [
    "<p>If we wanted to sum lists elementwise, we could write our own function that does the job entirely within the framework of python</p>"
   ]
  },
  {
   "cell_type": "markdown",
   "metadata": {},
   "source": [
    "#### In-Class Exercise #1 - Write a function that sums the indexes of two lists <br>\n",
    "<p>Ex: [2, 3, 4] + [1, 5, 2] = [3, 8, 6]</p>"
   ]
  },
  {
   "cell_type": "code",
   "execution_count": 11,
   "metadata": {},
   "outputs": [
    {
     "data": {
      "text/plain": [
       "[7, 9, 11]"
      ]
     },
     "execution_count": 11,
     "metadata": {},
     "output_type": "execute_result"
    }
   ],
   "source": [
    "list1 = [5,5,10]\n",
    "list2 = [2,4,1]\n",
    "\n",
    "# Output: [7,9,11]\n",
    "\n",
    "def lists_sum(list1,list2):\n",
    "    sum_list = []\n",
    "    \n",
    "    for num in list1:\n",
    "        sum_list.append(list1[num] + list2[num])\n",
    "\n",
    "    print(sum_list)"
   ]
  },
  {
   "cell_type": "markdown",
   "metadata": {},
   "source": [
    "We would have to write a similar function for all the possible operands that we could consider for list arithmatic. This is time consuming and inefficient. Moreover, once the lists in question become nested, mimicing the behavior of true matrices, the problem gets worse. Complicated indexing is necessary, just to allow for the most basic matrix operations common throughout science and engineering. Imagine writing a matrix multiplication function using python syntax in a general way, such that it returns a matrix-matrix or matrix-vector product:\n",
    "\n",
    "\\begin{align}\n",
    "(n \\times x) \\times (x \\times m) \\rightarrow (n \\times m)\n",
    "\\end{align}\n",
    "\n",
    "\\begin{align}\n",
    "\\begin{bmatrix}\n",
    "c_{0,0} & ... & c_{0,n} \\\\\n",
    "\\vdots & \\ddots & \\vdots \\\\\n",
    "c_{m,0} & ... & c_{m,n}\n",
    "\\end{bmatrix}\n",
    "=\n",
    "\\begin{bmatrix}\n",
    "a_{0,0} & ... & a_{0,x} \\\\\n",
    "\\vdots & \\ddots & \\vdots \\\\\n",
    "a_{n,0} & ... & a_{n,x}\n",
    "\\end{bmatrix}\n",
    "\\begin{bmatrix}\n",
    "b_{0,0} & ... & b_{0,m} \\\\\n",
    "\\vdots & \\ddots & \\vdots \\\\\n",
    "b_{x,0} & ... & b_{x,m}\n",
    "\\end{bmatrix}\n",
    "\\end{align}\n",
    "\n",
    "Another Example:\n",
    "\n",
    "<img src=\"https://www.mathsisfun.com/algebra/images/matrix-multiply-a.svg\">\n",
    "\n",
    "---\n",
    "\n",
    "The \"Dot Product\" is where we multiply matching members, then sum up:\n",
    "\n",
    "(1, 2, 3) • (7, 9, 11) = 1×7 + 2×9 + 3×11\n",
    "    = 58\n",
    "\n",
    "We match the 1st members (1 and 7), multiply them, likewise for the 2nd members (2 and 9) and the 3rd members (3 and 11), and finally sum them up.\n",
    "\n",
    "<hr>\n",
    "\n",
    "So, let's instantiate a matrix $\\mathcal{M}$ and a vector $\\vec{v}$ and write a function that does the multiplication ourselves."
   ]
  },
  {
   "cell_type": "code",
   "execution_count": 5,
   "metadata": {},
   "outputs": [
    {
     "name": "stdout",
     "output_type": "stream",
     "text": [
      "[[0], [0], [0]]\n",
      "3\n",
      "\n",
      " 3\n",
      "\n",
      " 1\n"
     ]
    },
    {
     "data": {
      "text/plain": [
       "[[2], [4], [6]]"
      ]
     },
     "execution_count": 5,
     "metadata": {},
     "output_type": "execute_result"
    }
   ],
   "source": [
    "# think of a vector as the variables to be applied in a mathematical process\n",
    "\n",
    "def matrix_multiply(A,B):\n",
    "    zero_list = [ [0 for i in range(len(B[0]))] for i in range(len(A))]\n",
    "    inner_dimensions = len(A[0])\n",
    "    n_dimensions = len(zero_list)\n",
    "    m_dimensions = len(zero_list[0])\n",
    "    \n",
    "    print(zero_list)\n",
    "    print(inner_dimensions)\n",
    "    print('\\n', n_dimensions)\n",
    "    print('\\n', m_dimensions)\n",
    "    \n",
    "    # looping through M by v\n",
    "    for i in range(n_dimensions):\n",
    "        for j in range(m_dimensions):\n",
    "            element = 0\n",
    "            for x in range(inner_dimensions):\n",
    "                element += A[i][x] * B[x][j]\n",
    "            zero_list[i][j] = element\n",
    "            \n",
    "    return zero_list\n",
    "    \n",
    "M = [[0,1,0], [0,2,0],[0,3,0]]\n",
    "v = [[1],[2],[3]]\n",
    "\n",
    "matrix_multiply(M,v)"
   ]
  },
  {
   "cell_type": "markdown",
   "metadata": {},
   "source": [
    "#### Importing"
   ]
  },
  {
   "cell_type": "code",
   "execution_count": 14,
   "metadata": {},
   "outputs": [
    {
     "name": "stdout",
     "output_type": "stream",
     "text": [
      "Requirement already satisfied: numpy in c:\\users\\tress\\anaconda3\\lib\\site-packages (1.24.3)\n"
     ]
    }
   ],
   "source": [
    "# always import as np, standard across all of data science\n",
    "!pip install numpy\n",
    "import numpy as np"
   ]
  },
  {
   "cell_type": "markdown",
   "metadata": {},
   "source": [
    "#### Creating an NDArray <br>\n",
    "<p>NumPy is based around a class called the $\\textit{NDArray}$, which is a flexible vector / matrix class that implements the intuitive matrix and vector arithmatic lacking in basic Python. Let's start by creating some NDArrays:</p>"
   ]
  },
  {
   "cell_type": "markdown",
   "metadata": {},
   "source": [
    "###### - np.array()"
   ]
  },
  {
   "cell_type": "code",
   "execution_count": 17,
   "metadata": {},
   "outputs": [
    {
     "name": "stdout",
     "output_type": "stream",
     "text": [
      "<class 'numpy.ndarray'>\n"
     ]
    }
   ],
   "source": [
    "# This creates a \"list\" that is classified as an NDArray which can be translated correctly by NumPy\n",
    "arr1 = np.array([1,2,3])\n",
    "arr1\n",
    "\n",
    "print(type(arr1))"
   ]
  },
  {
   "cell_type": "markdown",
   "metadata": {},
   "source": [
    "###### - np.zeros()"
   ]
  },
  {
   "cell_type": "code",
   "execution_count": 22,
   "metadata": {},
   "outputs": [
    {
     "data": {
      "text/plain": [
       "array([[0., 0., 0.],\n",
       "       [0., 0., 0.],\n",
       "       [0., 0., 0.]])"
      ]
     },
     "execution_count": 22,
     "metadata": {},
     "output_type": "execute_result"
    }
   ],
   "source": [
    "# Shape -- np.zeros() has a paramter of \"shape\" that must be given\n",
    "# Creates array's of the number 0\n",
    "# First paramater is height, second paramater is length\n",
    "arr_zeros = np.zeros((3,3))\n",
    "arr_zeros"
   ]
  },
  {
   "cell_type": "markdown",
   "metadata": {},
   "source": [
    "###### - np.ones()"
   ]
  },
  {
   "cell_type": "code",
   "execution_count": 25,
   "metadata": {},
   "outputs": [
    {
     "data": {
      "text/plain": [
       "array([[1, 1, 1],\n",
       "       [1, 1, 1],\n",
       "       [1, 1, 1]])"
      ]
     },
     "execution_count": 25,
     "metadata": {},
     "output_type": "execute_result"
    }
   ],
   "source": [
    "# Similar to np.zeros(), just creates an array with 1's as flaots\n",
    "# Can be converted to an integer via type assignment\n",
    "# First paramater is height, second paramater is length\n",
    "arr_ones = np.ones((3,3))\n",
    "arr_ones_int = np.ones((3,3), int)\n",
    "arr_ones_int"
   ]
  },
  {
   "cell_type": "markdown",
   "metadata": {},
   "source": [
    "###### - np.arange()"
   ]
  },
  {
   "cell_type": "code",
   "execution_count": 26,
   "metadata": {},
   "outputs": [
    {
     "data": {
      "text/plain": [
       "array([ 1,  2,  3,  4,  5,  6,  7,  8,  9, 10, 11])"
      ]
     },
     "execution_count": 26,
     "metadata": {},
     "output_type": "execute_result"
    }
   ],
   "source": [
    "# Can create a range by entering a starting integer and end integer\n",
    "# It is not inclusive of the ending digit, so add one if you want it included\n",
    "arr_range = np.arange(1,12)\n",
    "arr_range\n"
   ]
  },
  {
   "cell_type": "markdown",
   "metadata": {},
   "source": [
    "###### - Making Lists into NDArrays"
   ]
  },
  {
   "cell_type": "code",
   "execution_count": 28,
   "metadata": {},
   "outputs": [
    {
     "data": {
      "text/plain": [
       "array([5, 6, 7])"
      ]
     },
     "execution_count": 28,
     "metadata": {},
     "output_type": "execute_result"
    }
   ],
   "source": [
    "# Can convert lists into NDArrays\n",
    "list_1 = [5,6,7]\n",
    "\n",
    "arr_list = np.array(list_1)\n",
    "arr_list"
   ]
  },
  {
   "cell_type": "markdown",
   "metadata": {},
   "source": [
    "#### Performing Calculations on NDArrays"
   ]
  },
  {
   "cell_type": "markdown",
   "metadata": {},
   "source": [
    "###### - Summation"
   ]
  },
  {
   "cell_type": "code",
   "execution_count": 30,
   "metadata": {
    "scrolled": true
   },
   "outputs": [
    {
     "data": {
      "text/plain": [
       "array([15, 30, 45, 60, 75])"
      ]
     },
     "execution_count": 30,
     "metadata": {},
     "output_type": "execute_result"
    }
   ],
   "source": [
    "# Can add the matching indexes of arrays together with NumPy\n",
    "arr_list_1 = np.array([5,10,15,20,25])\n",
    "arr_list_2 = np.array([10,20,30,40,50])\n",
    "\n",
    "result_sum = arr_list_1 + arr_list_2\n",
    "result_sum"
   ]
  },
  {
   "cell_type": "markdown",
   "metadata": {},
   "source": [
    "###### - Difference"
   ]
  },
  {
   "cell_type": "code",
   "execution_count": 33,
   "metadata": {},
   "outputs": [
    {
     "data": {
      "text/plain": [
       "array([ 5, 10, 15, 20, 25])"
      ]
     },
     "execution_count": 33,
     "metadata": {},
     "output_type": "execute_result"
    }
   ],
   "source": [
    "# Can subtract in the same manner\n",
    "result_diff = arr_list_2 - arr_list_1\n",
    "result_diff"
   ]
  },
  {
   "cell_type": "markdown",
   "metadata": {},
   "source": [
    "###### - Multiplication"
   ]
  },
  {
   "cell_type": "code",
   "execution_count": 34,
   "metadata": {},
   "outputs": [
    {
     "data": {
      "text/plain": [
       "array([  50,  200,  450,  800, 1250])"
      ]
     },
     "execution_count": 34,
     "metadata": {},
     "output_type": "execute_result"
    }
   ],
   "source": [
    "# Can also multiply as well\n",
    "result_mul = arr_list_1 * arr_list_2\n",
    "result_mul"
   ]
  },
  {
   "cell_type": "markdown",
   "metadata": {},
   "source": [
    "###### - Division"
   ]
  },
  {
   "cell_type": "code",
   "execution_count": null,
   "metadata": {},
   "outputs": [],
   "source": [
    "# Can also divide as well\n",
    "# Results will default to floats\n",
    "result_div = arr_list_2 / arr_list_1\n",
    "result_div"
   ]
  },
  {
   "cell_type": "markdown",
   "metadata": {},
   "source": [
    "- Modulo"
   ]
  },
  {
   "cell_type": "code",
   "execution_count": 36,
   "metadata": {},
   "outputs": [
    {
     "data": {
      "text/plain": [
       "array([0, 0, 0, 0, 0])"
      ]
     },
     "execution_count": 36,
     "metadata": {},
     "output_type": "execute_result"
    }
   ],
   "source": [
    "result_mod = arr_list_2 % arr_list_1\n",
    "result_mod"
   ]
  },
  {
   "cell_type": "markdown",
   "metadata": {},
   "source": [
    "- Floor Division"
   ]
  },
  {
   "cell_type": "code",
   "execution_count": 37,
   "metadata": {},
   "outputs": [
    {
     "data": {
      "text/plain": [
       "array([2, 2, 2, 2, 2])"
      ]
     },
     "execution_count": 37,
     "metadata": {},
     "output_type": "execute_result"
    }
   ],
   "source": [
    "result_floor = arr_list_2 // arr_list_1\n",
    "result_floor"
   ]
  },
  {
   "cell_type": "markdown",
   "metadata": {},
   "source": [
    "#### NumPy Subsetting"
   ]
  },
  {
   "cell_type": "code",
   "execution_count": 45,
   "metadata": {},
   "outputs": [
    {
     "name": "stdout",
     "output_type": "stream",
     "text": [
      "[ True  True  True  True False]\n",
      "[ 50 200 450 800]\n",
      "[ True False False False]\n",
      "['Bob']\n"
     ]
    }
   ],
   "source": [
    "# Can take a subset of an array based on true or false conditions\n",
    "# Will provide values as booleans\n",
    "print(result_mul <= 800)\n",
    "\n",
    "# Can edit code slightly to provide values as actual numbres\n",
    "print(result_mul[result_mul <= 800])\n",
    "\n",
    "# Works just as well on string-based arrays\n",
    "# Returns boolean values\n",
    "test_ndStrings = np.array(['Bob','Mark','Angelica','Barb'])\n",
    "print(test_ndStrings == 'Bob')\n",
    "\n",
    "# Returns actual values\n",
    "print(test_ndStrings[test_ndStrings =='Bob'])\n",
    "\n"
   ]
  },
  {
   "cell_type": "markdown",
   "metadata": {},
   "source": [
    "#### Multi-dimensional Arrays <br>\n",
    "<p>NumPy seamlessly supports multidimensional arrays and matrices of arbitrary dimension without nesting NDArrays. NDArrays themselves are flexible and extensible and may be defined with such dimensions, with a rich API of common functions to facilitate their use. Let's start by building a two dimensional 3x3 matrix by conversion from a nested group of core python lists $M = [l_0, l_1, l_2]$:</p>"
   ]
  },
  {
   "cell_type": "code",
   "execution_count": 50,
   "metadata": {},
   "outputs": [
    {
     "name": "stdout",
     "output_type": "stream",
     "text": [
      "NDarray Structure: \n",
      "[[0 1 2]\n",
      " [3 4 5]\n",
      " [6 7 8]]\n"
     ]
    }
   ],
   "source": [
    "# Converting multiple lists into arrays with NumPy creats a Matrix\n",
    "aList = [0, 1, 2]\n",
    "bList = [3, 4, 5]\n",
    "cList = [6, 7, 8]\n",
    "\n",
    "# first step: convert lists into Matrix\n",
    "M = [aList, bList, cList]\n",
    "M\n",
    "\n",
    "# second step: place Matrix inside \n",
    "ND_M = np.array(M)\n",
    "print(f'NDarray Structure: \\n{ND_M}')\n",
    "\n",
    "# Remember that rows start at 0, so first row is row 0, second row is row 1, etc.\n",
    "# Same with columns"
   ]
  },
  {
   "cell_type": "markdown",
   "metadata": {},
   "source": [
    "#### Indexing NDArrays <br>\n",
    "<p> Similar to lists within lists; however, the syntax looks more like C programming language.... It is [1, 2] to access the second row, third element.</p>"
   ]
  },
  {
   "cell_type": "code",
   "execution_count": 52,
   "metadata": {},
   "outputs": [
    {
     "name": "stdout",
     "output_type": "stream",
     "text": [
      "Getting the middle element within the matrix: 4\n",
      "Getting the second row, third element within matrix: 5\n"
     ]
    }
   ],
   "source": [
    "print(f'Getting the middle element within the matrix: {ND_M[1,1]}')\n",
    "\n",
    "print(f'Getting the second row, third element within matrix: {ND_M[1,2]}')"
   ]
  },
  {
   "cell_type": "markdown",
   "metadata": {},
   "source": [
    "#### Assigning Values in NDArrays"
   ]
  },
  {
   "cell_type": "code",
   "execution_count": 54,
   "metadata": {},
   "outputs": [
    {
     "data": {
      "text/plain": [
       "array([[0, 1, 2],\n",
       "       [3, 9, 5],\n",
       "       [6, 7, 8]])"
      ]
     },
     "execution_count": 54,
     "metadata": {},
     "output_type": "execute_result"
    }
   ],
   "source": [
    "# Can assign and change values in arrays within a matrix\n",
    "ND_M[1,1] = 9\n",
    "ND_M"
   ]
  },
  {
   "cell_type": "markdown",
   "metadata": {},
   "source": [
    "<p>Notice above how we ended up with a 1 in the target element's place. This is a data type issue. The .dtype() method is supported by all NDArrays, as well as the .astype() method for casting between data types:</p>"
   ]
  },
  {
   "cell_type": "markdown",
   "metadata": {},
   "source": [
    "#### Checking NDArray Type"
   ]
  },
  {
   "cell_type": "code",
   "execution_count": 55,
   "metadata": {},
   "outputs": [
    {
     "data": {
      "text/plain": [
       "dtype('int32')"
      ]
     },
     "execution_count": 55,
     "metadata": {},
     "output_type": "execute_result"
    }
   ],
   "source": [
    "# Can use the .dtype() method to identify an array type\n",
    "nd_type = ND_M.dtype\n",
    "nd_type"
   ]
  },
  {
   "cell_type": "markdown",
   "metadata": {},
   "source": [
    "#### Altering NDArray Type"
   ]
  },
  {
   "cell_type": "code",
   "execution_count": 60,
   "metadata": {},
   "outputs": [
    {
     "name": "stdout",
     "output_type": "stream",
     "text": [
      "Type before change: int32\n",
      "Type after change: float32\n"
     ]
    }
   ],
   "source": [
    "# Can alter the NDArray type using the .astype() method\n",
    "result_t = nd_type\n",
    "print(f'Type before change: {result_t}')\n",
    "\n",
    "changed = ND_M.astype(np.float32)\n",
    "\n",
    "result_changed = changed\n",
    "\n",
    "print(f'Type after change: {result_changed.dtype}')"
   ]
  },
  {
   "cell_type": "markdown",
   "metadata": {},
   "source": [
    "#### Checking the Shape <br>\n",
    "<p>The behavior and properties of an NDArray are often sensitively dependent on the $\\textit{shape}$ of the NDArray itself. The shape of an array can be found by calling the .shape method, which will return a tuple containing the array's dimensions:</p>"
   ]
  },
  {
   "cell_type": "code",
   "execution_count": 63,
   "metadata": {},
   "outputs": [
    {
     "data": {
      "text/plain": [
       "(3, 3)"
      ]
     },
     "execution_count": 63,
     "metadata": {},
     "output_type": "execute_result"
    }
   ],
   "source": [
    "# Can check the shape of an array/matrix using the .shape method\n",
    "result_changed.shape"
   ]
  },
  {
   "cell_type": "markdown",
   "metadata": {},
   "source": [
    "#### Altering the Shape <br>\n",
    "<p>As long as the number of elements remains fixed, we can reshape NDArrays at will:</p>"
   ]
  },
  {
   "cell_type": "code",
   "execution_count": 65,
   "metadata": {},
   "outputs": [
    {
     "name": "stdout",
     "output_type": "stream",
     "text": [
      "[[0. 1. 2. 3. 9. 5. 6. 7. 8.]]\n"
     ]
    }
   ],
   "source": [
    "# Change the shape of the numpy array\n",
    "# Using the method .reshape()\n",
    "\n",
    "# .reshape() should be a multiple of the original shape\n",
    "print(result_changed.reshape(1,9))\n"
   ]
  },
  {
   "cell_type": "code",
   "execution_count": 66,
   "metadata": {},
   "outputs": [
    {
     "name": "stdout",
     "output_type": "stream",
     "text": [
      "[[0.]\n",
      " [1.]\n",
      " [2.]\n",
      " [3.]\n",
      " [9.]\n",
      " [5.]\n",
      " [6.]\n",
      " [7.]\n",
      " [8.]]\n"
     ]
    }
   ],
   "source": [
    "# keep in mind that the shape numbers do matter, (9, 1) is different than (1, 9)\n",
    "print(result_changed.reshape((9,1)))"
   ]
  },
  {
   "cell_type": "markdown",
   "metadata": {},
   "source": [
    "#### In-Class Exercise #2 - Create a matrix of range 0 up to 16 and reshape it into a 4x4 matrice"
   ]
  },
  {
   "cell_type": "code",
   "execution_count": 73,
   "metadata": {},
   "outputs": [
    {
     "data": {
      "text/plain": [
       "array([[ 0,  1,  2,  3],\n",
       "       [ 4,  5,  6,  7],\n",
       "       [ 8,  9, 10, 11],\n",
       "       [12, 13, 14, 15]])"
      ]
     },
     "execution_count": 73,
     "metadata": {},
     "output_type": "execute_result"
    }
   ],
   "source": [
    "\"\"\"\n",
    "OUTPUT:\n",
    "    array([[ 0, 1, 2, 3],\n",
    "    [4, 5, 6, 7],\n",
    "    [8, 9, 10, 11],\n",
    "    [12, 13, 14, 15])\n",
    "\"\"\"\n",
    "\n",
    "m_array = np.arange(0, 16)\n",
    "m_array.reshape(4,4)\n"
   ]
  },
  {
   "cell_type": "markdown",
   "metadata": {},
   "source": [
    "#### Complex Indexing & Assinging"
   ]
  },
  {
   "cell_type": "code",
   "execution_count": 81,
   "metadata": {},
   "outputs": [
    {
     "name": "stdout",
     "output_type": "stream",
     "text": [
      "New matrix before assignment:\n",
      "[[0. 0. 0. 0. 0. 0.]\n",
      " [0. 0. 0. 0. 0. 0.]\n",
      " [0. 0. 0. 0. 0. 0.]\n",
      " [0. 0. 0. 0. 0. 0.]\n",
      " [0. 0. 0. 0. 0. 0.]\n",
      " [0. 0. 0. 0. 0. 0.]]\n",
      "\n",
      "After assigning 1 to first colum:\n",
      "[[1. 0. 0. 0. 0. 0.]\n",
      " [1. 0. 0. 0. 0. 0.]\n",
      " [1. 0. 0. 0. 0. 0.]\n",
      " [1. 0. 0. 0. 0. 0.]\n",
      " [1. 0. 0. 0. 0. 0.]\n",
      " [1. 0. 0. 0. 0. 0.]]\n",
      "\n",
      "After assigning 5 to rows 3 to 5:\n",
      "[[1. 0. 0. 0. 0. 0.]\n",
      " [1. 0. 0. 0. 0. 0.]\n",
      " [5. 5. 5. 5. 5. 5.]\n",
      " [5. 5. 5. 5. 5. 5.]\n",
      " [5. 5. 5. 5. 5. 5.]\n",
      " [1. 0. 0. 0. 0. 0.]]\n",
      "\n",
      "Reset the matrix back to 0:\n",
      "[[0. 0. 0. 0. 0. 0.]\n",
      " [0. 0. 0. 0. 0. 0.]\n",
      " [0. 0. 0. 0. 0. 0.]\n",
      " [0. 0. 0. 0. 0. 0.]\n",
      " [0. 0. 0. 0. 0. 0.]\n",
      " [0. 0. 0. 0. 0. 0.]]\n",
      "\n",
      "After assigning 2 to second and third columns:\n",
      "[[0. 2. 2. 0. 0. 0.]\n",
      " [0. 2. 2. 0. 0. 0.]\n",
      " [0. 2. 2. 0. 0. 0.]\n",
      " [0. 2. 2. 0. 0. 0.]\n",
      " [0. 2. 2. 0. 0. 0.]\n",
      " [0. 2. 2. 0. 0. 0.]]\n",
      "\n",
      "After assigning vector array x to the first axis in the matrix:\n",
      "[[0. 1. 2. 3. 4. 5.]\n",
      " [0. 0. 0. 0. 0. 0.]\n",
      " [0. 0. 0. 0. 0. 0.]\n",
      " [0. 0. 0. 0. 0. 0.]\n",
      " [0. 0. 0. 0. 0. 0.]\n",
      " [0. 0. 0. 0. 0. 0.]]\n"
     ]
    }
   ],
   "source": [
    "M = np.zeros((6,6))\n",
    "print('New matrix before assignment:')\n",
    "print(M)\n",
    "\n",
    "# Set every first element in each row to 1\n",
    "M[:,0] = 1\n",
    "print('\\nAfter assigning 1 to first colum:')\n",
    "print(M)\n",
    "\n",
    "# Set all elements in axis 3 to 5 (excluding 5) to be equal to the number 5\n",
    "M[2:5, :] = 5\n",
    "print('\\nAfter assigning 5 to rows 3 to 5:')\n",
    "print(M)\n",
    "\n",
    "# Reset the  matrix back to 0\n",
    "print('\\nReset the matrix back to 0:')\n",
    "M = M * 0\n",
    "print(M)\n",
    "\n",
    "# Set the second and third coumns to a number == 2\n",
    "M[:, 1:3] = 2\n",
    "print('\\nAfter assigning 2 to second and third columns:')\n",
    "print(M)\n",
    "\n",
    "# Creating a vector in numpy to apply to matrix\n",
    "x = np.arange(6)\n",
    "\n",
    "# Reset the matrix to 0\n",
    "M *= 0\n",
    "\n",
    "# Set the first row to the range of the vector numbers just created\n",
    "M[0, :] = x\n",
    "print('\\nAfter assigning vector array x to the first axis in the matrix:')\n",
    "print(M)"
   ]
  },
  {
   "cell_type": "markdown",
   "metadata": {},
   "source": [
    "#### Elementwise Multiplication"
   ]
  },
  {
   "cell_type": "markdown",
   "metadata": {},
   "source": [
    "<p>As long as the shapes of NDArrays are 'compatible', they can be multiplied elementwise, broadcasted, used in inner products, and much much more. 'Compatible' in this context can mean compatible in the linear algebraic sense, i.e. for inner products and other matrix multiplication, or simply sharing a dimension in such a manner that broadcasting 'makes sense'. Here are some examples of this:</p>"
   ]
  },
  {
   "cell_type": "code",
   "execution_count": 87,
   "metadata": {},
   "outputs": [
    {
     "name": "stdout",
     "output_type": "stream",
     "text": [
      "0\n",
      "[[0. 0. 0. 0. 0. 0.]\n",
      " [0. 0. 0. 0. 0. 0.]\n",
      " [0. 0. 0. 0. 0. 0.]\n",
      " [0. 0. 0. 0. 0. 0.]\n",
      " [0. 0. 0. 0. 0. 0.]\n",
      " [0. 0. 0. 0. 0. 0.]]\n"
     ]
    },
    {
     "data": {
      "text/plain": [
       "array([[0., 0., 0., 0., 0., 0.],\n",
       "       [0., 0., 0., 0., 0., 0.],\n",
       "       [0., 0., 0., 0., 0., 0.],\n",
       "       [0., 0., 0., 0., 0., 0.],\n",
       "       [0., 0., 0., 0., 0., 0.],\n",
       "       [0., 0., 0., 0., 0., 0.]])"
      ]
     },
     "execution_count": 87,
     "metadata": {},
     "output_type": "execute_result"
    }
   ],
   "source": [
    "# Initialize a vector of range 6, then reset Matrix to zero and run vector multiplication on the matrix\n",
    "v = M[:, :] = 0\n",
    "print(v)\n",
    "\n",
    "# Reset matrix to 0\n",
    "M = M * v\n",
    "print(M)\n",
    "\n",
    "# Reshape the matrix\n",
    "M.reshape(6,6)"
   ]
  },
  {
   "cell_type": "markdown",
   "metadata": {},
   "source": [
    "#### np.where() <br>\n",
    "<p>If statement within NDArrays that allows you to run conditionals on the entire array</p>"
   ]
  },
  {
   "cell_type": "code",
   "execution_count": 90,
   "metadata": {},
   "outputs": [
    {
     "name": "stdout",
     "output_type": "stream",
     "text": [
      "[  50  200  450  800 1250]\n",
      "\n",
      ", (array([0, 1, 2], dtype=int64),)\n",
      "\n",
      " [ 50 200 450]\n"
     ]
    }
   ],
   "source": [
    "# Allows you to run conditionals on the entire arra\n",
    "# Transforms data base don boolean mask == True\n",
    "\n",
    "print(result_mul)\n",
    "\n",
    "# Can get the indexes through slight alteration of code\n",
    "print('\\n,', np.where(result_mul < 800))\n",
    "\n",
    "# Returns the values of the conditional\n",
    "print('\\n', result_mul[np.where(result_mul < 800)])\n"
   ]
  },
  {
   "cell_type": "markdown",
   "metadata": {},
   "source": [
    "#### Random Sampling <br>\n",
    "<p>NumPy provides machinery to work with random numbers - something often needed in a broad spectrum of data science applications.</p>"
   ]
  },
  {
   "cell_type": "code",
   "execution_count": 95,
   "metadata": {},
   "outputs": [
    {
     "name": "stdout",
     "output_type": "stream",
     "text": [
      "Here is a random number: 0.514453824535981\n",
      "\n",
      "Here is a random number between 0 and 1 Million: 785423.8230286522\n",
      "\n",
      "Here are 3 random numbers between 0 and 10: [7.84171034 9.46094948 7.12914673]\n",
      "\n",
      "Here is a 3x3 matrix with numbers between 0 and 10: \n",
      " [[1.29979267 2.00563455 2.74077588]\n",
      " [8.0388421  7.11125121 0.66308594]\n",
      " [6.97385476 5.96744754 0.59354187]]\n"
     ]
    }
   ],
   "source": [
    "# np.random.uniform()\n",
    "\n",
    "# A single call generates a single random number between 0 and 1\n",
    "\n",
    "print('Here is a random number: %s' % np.random.uniform())\n",
    "\n",
    "# # You can also pass some parameters or bounds\n",
    "\n",
    "print('\\nHere is a random number between 0 and 1 Million: %s' % np.random.uniform(0, 1e6))\n",
    "\n",
    "# # You can also generate a bunch of random numbers all at once\n",
    "\n",
    "print('\\nHere are 3 random numbers between 0 and 10: %s' % np.random.uniform(0, 10, 3))\n",
    "\n",
    "# # Even matrices with shapes as a parameter\n",
    "\n",
    "print('\\nHere is a 3x3 matrix with numbers between 0 and 10: \\n %s' % np.random.uniform(0, 10, (3, 3)))"
   ]
  },
  {
   "cell_type": "markdown",
   "metadata": {},
   "source": [
    "## Working With CSV's"
   ]
  },
  {
   "cell_type": "markdown",
   "metadata": {},
   "source": [
    "#### Imports"
   ]
  },
  {
   "cell_type": "code",
   "execution_count": 14,
   "metadata": {},
   "outputs": [],
   "source": [
    "import csv\n",
    "import numpy as np\n",
    "from datetime import datetime"
   ]
  },
  {
   "cell_type": "markdown",
   "metadata": {},
   "source": [
    "#### Reading a CSV"
   ]
  },
  {
   "cell_type": "code",
   "execution_count": 20,
   "metadata": {},
   "outputs": [
    {
     "name": "stdout",
     "output_type": "stream",
     "text": [
      "[['5.1', '3.5', '1.4', '0.2', 'Iris-setosa'], ['4.9', '3', '1.4', '0.2', 'Iris-setosa'], ['4.7', '3.2', '1.3', '0.2', 'Iris-setosa'], ['4.6', '3.1', '1.5', '0.2', 'Iris-setosa'], ['5', '3.6', '1.4', '0.2', 'Iris-setosa'], ['5.4', '3.9', '1.7', '0.4', 'Iris-setosa'], ['4.6', '3.4', '1.4', '0.3', 'Iris-setosa'], ['5', '3.4', '1.5', '0.2', 'Iris-setosa'], ['4.4', '2.9', '1.4', '0.2', 'Iris-setosa'], ['4.9', '3.1', '1.5', '0.1', 'Iris-setosa'], ['5.4', '3.7', '1.5', '0.2', 'Iris-setosa'], ['4.8', '3.4', '1.6', '0.2', 'Iris-setosa'], ['4.8', '3', '1.4', '0.1', 'Iris-setosa'], ['4.3', '3', '1.1', '0.1', 'Iris-setosa'], ['5.8', '4', '1.2', '0.2', 'Iris-setosa'], ['5.7', '4.4', '1.5', '0.4', 'Iris-setosa'], ['5.4', '3.9', '1.3', '0.4', 'Iris-setosa'], ['5.1', '3.5', '1.4', '0.3', 'Iris-setosa'], ['5.7', '3.8', '1.7', '0.3', 'Iris-setosa'], ['5.1', '3.8', '1.5', '0.3', 'Iris-setosa'], ['5.4', '3.4', '1.7', '0.2', 'Iris-setosa'], ['5.1', '3.7', '1.5', '0.4', 'Iris-setosa'], ['4.6', '3.6', '1', '0.2', 'Iris-setosa'], ['5.1', '3.3', '1.7', '0.5', 'Iris-setosa'], ['4.8', '3.4', '1.9', '0.2', 'Iris-setosa'], ['5', '3', '1.6', '0.2', 'Iris-setosa'], ['5', '3.4', '1.6', '0.4', 'Iris-setosa'], ['5.2', '3.5', '1.5', '0.2', 'Iris-setosa'], ['5.2', '3.4', '1.4', '0.2', 'Iris-setosa'], ['4.7', '3.2', '1.6', '0.2', 'Iris-setosa'], ['4.8', '3.1', '1.6', '0.2', 'Iris-setosa'], ['5.4', '3.4', '1.5', '0.4', 'Iris-setosa'], ['5.2', '4.1', '1.5', '0.1', 'Iris-setosa'], ['5.5', '4.2', '1.4', '0.2', 'Iris-setosa'], ['4.9', '3.1', '1.5', '0.1', 'Iris-setosa'], ['5', '3.2', '1.2', '0.2', 'Iris-setosa'], ['5.5', '3.5', '1.3', '0.2', 'Iris-setosa'], ['4.9', '3.1', '1.5', '0.1', 'Iris-setosa'], ['4.4', '3', '1.3', '0.2', 'Iris-setosa'], ['5.1', '3.4', '1.5', '0.2', 'Iris-setosa'], ['5', '3.5', '1.3', '0.3', 'Iris-setosa'], ['4.5', '2.3', '1.3', '0.3', 'Iris-setosa'], ['4.4', '3.2', '1.3', '0.2', 'Iris-setosa'], ['5', '3.5', '1.6', '0.6', 'Iris-setosa'], ['5.1', '3.8', '1.9', '0.4', 'Iris-setosa'], ['4.8', '3', '1.4', '0.3', 'Iris-setosa'], ['5.1', '3.8', '1.6', '0.2', 'Iris-setosa'], ['4.6', '3.2', '1.4', '0.2', 'Iris-setosa'], ['5.3', '3.7', '1.5', '0.2', 'Iris-setosa'], ['5', '3.3', '1.4', '0.2', 'Iris-setosa'], ['7', '3.2', '4.7', '1.4', 'Iris-versicolor'], ['6.4', '3.2', '4.5', '1.5', 'Iris-versicolor'], ['6.9', '3.1', '4.9', '1.5', 'Iris-versicolor'], ['5.5', '2.3', '4', '1.3', 'Iris-versicolor'], ['6.5', '2.8', '4.6', '1.5', 'Iris-versicolor'], ['5.7', '2.8', '4.5', '1.3', 'Iris-versicolor'], ['6.3', '3.3', '4.7', '1.6', 'Iris-versicolor'], ['4.9', '2.4', '3.3', '1', 'Iris-versicolor'], ['6.6', '2.9', '4.6', '1.3', 'Iris-versicolor'], ['5.2', '2.7', '3.9', '1.4', 'Iris-versicolor'], ['5', '2', '3.5', '1', 'Iris-versicolor'], ['5.9', '3', '4.2', '1.5', 'Iris-versicolor'], ['6', '2.2', '4', '1', 'Iris-versicolor'], ['6.1', '2.9', '4.7', '1.4', 'Iris-versicolor'], ['5.6', '2.9', '3.6', '1.3', 'Iris-versicolor'], ['6.7', '3.1', '4.4', '1.4', 'Iris-versicolor'], ['5.6', '3', '4.5', '1.5', 'Iris-versicolor'], ['5.8', '2.7', '4.1', '1', 'Iris-versicolor'], ['6.2', '2.2', '4.5', '1.5', 'Iris-versicolor'], ['5.6', '2.5', '3.9', '1.1', 'Iris-versicolor'], ['5.9', '3.2', '4.8', '1.8', 'Iris-versicolor'], ['6.1', '2.8', '4', '1.3', 'Iris-versicolor'], ['6.3', '2.5', '4.9', '1.5', 'Iris-versicolor'], ['6.1', '2.8', '4.7', '1.2', 'Iris-versicolor'], ['6.4', '2.9', '4.3', '1.3', 'Iris-versicolor'], ['6.6', '3', '4.4', '1.4', 'Iris-versicolor'], ['6.8', '2.8', '4.8', '1.4', 'Iris-versicolor'], ['6.7', '3', '5', '1.7', 'Iris-versicolor'], ['6', '2.9', '4.5', '1.5', 'Iris-versicolor'], ['5.7', '2.6', '3.5', '1', 'Iris-versicolor'], ['5.5', '2.4', '3.8', '1.1', 'Iris-versicolor'], ['5.5', '2.4', '3.7', '1', 'Iris-versicolor'], ['5.8', '2.7', '3.9', '1.2', 'Iris-versicolor'], ['6', '2.7', '5.1', '1.6', 'Iris-versicolor'], ['5.4', '3', '4.5', '1.5', 'Iris-versicolor'], ['6', '3.4', '4.5', '1.6', 'Iris-versicolor'], ['6.7', '3.1', '4.7', '1.5', 'Iris-versicolor'], ['6.3', '2.3', '4.4', '1.3', 'Iris-versicolor'], ['5.6', '3', '4.1', '1.3', 'Iris-versicolor'], ['5.5', '2.5', '4', '1.3', 'Iris-versicolor'], ['5.5', '2.6', '4.4', '1.2', 'Iris-versicolor'], ['6.1', '3', '4.6', '1.4', 'Iris-versicolor'], ['5.8', '2.6', '4', '1.2', 'Iris-versicolor'], ['5', '2.3', '3.3', '1', 'Iris-versicolor'], ['5.6', '2.7', '4.2', '1.3', 'Iris-versicolor'], ['5.7', '3', '4.2', '1.2', 'Iris-versicolor'], ['5.7', '2.9', '4.2', '1.3', 'Iris-versicolor'], ['6.2', '2.9', '4.3', '1.3', 'Iris-versicolor'], ['5.1', '2.5', '3', '1.1', 'Iris-versicolor'], ['5.7', '2.8', '4.1', '1.3', 'Iris-versicolor'], ['6.3', '3.3', '6', '2.5', 'Iris-virginica'], ['5.8', '2.7', '5.1', '1.9', 'Iris-virginica'], ['7.1', '3', '5.9', '2.1', 'Iris-virginica'], ['6.3', '2.9', '5.6', '1.8', 'Iris-virginica'], ['6.5', '3', '5.8', '2.2', 'Iris-virginica'], ['7.6', '3', '6.6', '2.1', 'Iris-virginica'], ['4.9', '2.5', '4.5', '1.7', 'Iris-virginica'], ['7.3', '2.9', '6.3', '1.8', 'Iris-virginica'], ['6.7', '2.5', '5.8', '1.8', 'Iris-virginica'], ['7.2', '3.6', '6.1', '2.5', 'Iris-virginica'], ['6.5', '3.2', '5.1', '2', 'Iris-virginica'], ['6.4', '2.7', '5.3', '1.9', 'Iris-virginica'], ['6.8', '3', '5.5', '2.1', 'Iris-virginica'], ['5.7', '2.5', '5', '2', 'Iris-virginica'], ['5.8', '2.8', '5.1', '2.4', 'Iris-virginica'], ['6.4', '3.2', '5.3', '2.3', 'Iris-virginica'], ['6.5', '3', '5.5', '1.8', 'Iris-virginica'], ['7.7', '3.8', '6.7', '2.2', 'Iris-virginica'], ['7.7', '2.6', '6.9', '2.3', 'Iris-virginica'], ['6', '2.2', '5', '1.5', 'Iris-virginica'], ['6.9', '3.2', '5.7', '2.3', 'Iris-virginica'], ['5.6', '2.8', '4.9', '2', 'Iris-virginica'], ['7.7', '2.8', '6.7', '2', 'Iris-virginica'], ['6.3', '2.7', '4.9', '1.8', 'Iris-virginica'], ['6.7', '3.3', '5.7', '2.1', 'Iris-virginica'], ['7.2', '3.2', '6', '1.8', 'Iris-virginica'], ['6.2', '2.8', '4.8', '1.8', 'Iris-virginica'], ['6.1', '3', '4.9', '1.8', 'Iris-virginica'], ['6.4', '2.8', '5.6', '2.1', 'Iris-virginica'], ['7.2', '3', '5.8', '1.6', 'Iris-virginica'], ['7.4', '2.8', '6.1', '1.9', 'Iris-virginica'], ['7.9', '3.8', '6.4', '2', 'Iris-virginica'], ['6.4', '2.8', '5.6', '2.2', 'Iris-virginica'], ['6.3', '2.8', '5.1', '1.5', 'Iris-virginica'], ['6.1', '2.6', '5.6', '1.4', 'Iris-virginica'], ['7.7', '3', '6.1', '2.3', 'Iris-virginica'], ['6.3', '3.4', '5.6', '2.4', 'Iris-virginica'], ['6.4', '3.1', '5.5', '1.8', 'Iris-virginica'], ['6', '3', '4.8', '1.8', 'Iris-virginica'], ['6.9', '3.1', '5.4', '2.1', 'Iris-virginica'], ['6.7', '3.1', '5.6', '2.4', 'Iris-virginica'], ['6.9', '3.1', '5.1', '2.3', 'Iris-virginica'], ['5.8', '2.7', '5.1', '1.9', 'Iris-virginica'], ['6.8', '3.2', '5.9', '2.3', 'Iris-virginica'], ['6.7', '3.3', '5.7', '2.5', 'Iris-virginica'], ['6.7', '3', '5.2', '2.3', 'Iris-virginica'], ['6.3', '2.5', '5', '1.9', 'Iris-virginica'], ['6.5', '3', '5.2', '2', 'Iris-virginica'], ['6.2', '3.4', '5.4', '2.3', 'Iris-virginica'], ['5.9', '3', '5.1', '1.8', 'Iris-virginica']]\n"
     ]
    }
   ],
   "source": [
    "# Creating a function to open and read CSV data\n",
    "def open_csv(filename, d = ','):\n",
    "    # Define an empty list to store data\n",
    "    data = []\n",
    "    \n",
    "    with open(filename, encoding = 'utf-8') as mData:\n",
    "        # Use the csv reader method to create a python list\n",
    "        info = csv.reader(mData, delimiter = d)\n",
    "        \n",
    "        # Loop over info and append to data list\n",
    "        for row in info:\n",
    "            data.append(row)\n",
    "    return data\n",
    "\n",
    "csv_data = open_csv('../numpy/iris.csv')\n",
    "\n",
    "print(csv_data)\n",
    "\n",
    "# Note: boston_marathon2017_edited.csv was crashing jupyter notebook, so just used iris.csv"
   ]
  },
  {
   "cell_type": "markdown",
   "metadata": {},
   "source": [
    "#### Loading a CSV's Data "
   ]
  },
  {
   "cell_type": "code",
   "execution_count": 30,
   "metadata": {},
   "outputs": [
    {
     "name": "stdout",
     "output_type": "stream",
     "text": [
      "[b'Christian Vazquez' b'Mitch Moreland' b'Dustin Pedroia'\n",
      " b'Xander Bogaerts' b'Rafael Devers' b'Andrew Benintendi'\n",
      " b'Jackie Bradley Jr.' b'Mookie Betts' b'Hanley Ramirez' b'Sandy Leon'\n",
      " b'Chris Young' b'Deven Marrero' b'Eduardo Nunez' b'Brock Holt'\n",
      " b'Josh Rutledge' b'Pablo Sandoval' b'Sam Travis' b'Tzu-Wei Lin'\n",
      " b'Marco Hernandez' b'Rajai Davis' b'Steve Selsky' b'Blake Swihart'\n",
      " b\"Chase d'Arnaud\"]\n",
      "\n",
      "Total Hits 2017: 1459\n",
      "\n",
      "Total Home Runs 2017: 168\n"
     ]
    }
   ],
   "source": [
    "FIELDS = ['Rk', 'Pos', 'Name', 'Age', 'G', 'PA', 'AB', 'R', 'H', '2B', '3B', 'HR', 'RBI', 'SB', 'CS', \n",
    "          'BB', 'SO', 'BA', 'OBP', 'SLG', 'OPS', 'OPS+', 'TB', 'GDP', 'HBP', 'SH', 'SF', 'IBB']\n",
    "\n",
    "# i = integer, f = float, |s25 = string with 25 characters\n",
    "DATATYPES = [('rk', 'i'), ('pos', '|S25'), ('name', '|S25'), ('age', 'i'), ('g', 'i'), ('pa', 'i'), ('ab', 'i'),\n",
    "                ('r', 'i'), ('h', 'i'), ('2b', 'i'), ('3b', 'i'), ('hr', 'i'), ('rbi', 'i'), ('sb', 'i'), ('cs', 'i'),\n",
    "                ('bb', 'i'), ('so', 'i'), ('ba', 'f'), ('obp', 'f'), ('slg', 'f'), ('ops', 'f'), ('opsp', 'i'),\n",
    "                ('tb', 'i'), ('gdp', 'i'), ('hbp', 'i'), ('sh', 'i'), ('sf', 'i'), ('ibb', 'i')]\n",
    "\n",
    "# instead of loading csv normally, let's load it into a numpy array to calculate results on\n",
    "def load_data(filename, d = ','):\n",
    "    data = np.genfromtxt(filename, delimiter = d, skip_header = 1,\n",
    "                        usecols = np.arange(0,24), invalid_raise = False,\n",
    "                        names = FIELDS, dtype = DATATYPES)\n",
    "    \n",
    "    return data\n",
    "\n",
    "bs2017 = load_data('../numpy/redsox_2017_hitting.txt')\n",
    "\n",
    "names = bs2017['Name']\n",
    "\n",
    "print(names)\n",
    "\n",
    "# Find total number of hits\n",
    "total_hits = sum(bs2017['H'])\n",
    "print(f'\\nTotal Hits 2017: {total_hits}')\n",
    "\n",
    "# Find the total homeruns for the team\n",
    "total_HR = sum(bs2017['HR'])\n",
    "print(f'\\nTotal Home Runs 2017: {total_HR}')"
   ]
  },
  {
   "cell_type": "markdown",
   "metadata": {},
   "source": [
    "#### Summing the top 5 hitters for HR's"
   ]
  },
  {
   "cell_type": "code",
   "execution_count": 37,
   "metadata": {},
   "outputs": [
    {
     "name": "stdout",
     "output_type": "stream",
     "text": [
      "('Mookie Betts', 24)\n",
      "('Hanley Ramirez', 23)\n",
      "('Mitch Moreland', 22)\n",
      "('Andrew Benintendi', 20)\n",
      "('Jackie Bradley Jr.', 17)\n"
     ]
    }
   ],
   "source": [
    "# find the top 5 hr hitters\n",
    "\n",
    "# Step 1: Get all HR data into a variable\n",
    "# Step 2: Get all Player names\n",
    "# Step 3: Create new list for new_names (empty to start)\n",
    "# Step 4: Decode the player names into regular strings\n",
    "# Step 5: Grab all data and place inside of a zipped list\n",
    "# Step 6: Sort values based on HR data\n",
    "\n",
    "# Step 1: Collects all HR data into a list\n",
    "all_hr = bs2017['HR']\n",
    "\n",
    "# Step 2: Collects all Name data into a list\n",
    "all_names = bs2017['Name']\n",
    "\n",
    "# Step 3: Empty list for appending data\n",
    "new_names = []\n",
    "\n",
    "# Step 4: Appends names into the empty new_names list\n",
    "for name in range(len(all_names)):\n",
    "    new_names.append(all_names[name].decode('utf-8'))\n",
    "# print(new_names)\n",
    "\n",
    "# Step 5: Creates a list of tuples for each name and corresponding HR data\n",
    "zipped_values = list(zip(new_names, all_hr))\n",
    "# print(zipped_values)\n",
    "\n",
    "# Step 6: Sorts the tuples in descending order based on HR data\n",
    "sorted_hr = sorted(zipped_values, key = lambda x: x[1], reverse = True)\n",
    "\n",
    "# Prints top 5 home run hitters\n",
    "x = 0\n",
    "for home_run_star in sorted_hr:\n",
    "    if x < 5:\n",
    "        print(home_run_star)\n",
    "        x += 1"
   ]
  },
  {
   "cell_type": "markdown",
   "metadata": {
    "collapsed": true
   },
   "source": [
    "# Exercises To Complete.... <br>\n",
    "<p>Given in separate file after completion of this file</p>"
   ]
  }
 ],
 "metadata": {
  "kernelspec": {
   "display_name": "Python 3 (ipykernel)",
   "language": "python",
   "name": "python3"
  },
  "language_info": {
   "codemirror_mode": {
    "name": "ipython",
    "version": 3
   },
   "file_extension": ".py",
   "mimetype": "text/x-python",
   "name": "python",
   "nbconvert_exporter": "python",
   "pygments_lexer": "ipython3",
   "version": "3.11.3"
  }
 },
 "nbformat": 4,
 "nbformat_minor": 2
}
