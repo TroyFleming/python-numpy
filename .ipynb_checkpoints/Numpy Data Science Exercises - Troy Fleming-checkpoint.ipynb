{
 "cells": [
  {
   "cell_type": "markdown",
   "metadata": {
    "id": "KdERlTpFuL5V"
   },
   "source": [
    "# Exercises"
   ]
  },
  {
   "cell_type": "markdown",
   "metadata": {
    "id": "to-gsrQyuL5Z"
   },
   "source": [
    "### #1 - Calculate the BMI (body mass index) on the two lists below using NDArrays..."
   ]
  },
  {
   "cell_type": "code",
   "execution_count": 24,
   "metadata": {
    "id": "iZlf9DzeuL5a"
   },
   "outputs": [
    {
     "name": "stdout",
     "output_type": "stream",
     "text": [
      "[16.86620458 17.87755102 18.82562984 19.71450617 20.54794521 21.32943755\n",
      " 22.06222222]\n"
     ]
    }
   ],
   "source": [
    "import numpy as np\n",
    "# formula = weight / (height**2) * 730\n",
    "\n",
    "height = np.array([69, 70, 71, 72, 73, 74, 75])\n",
    "weight = np.array([110, 120, 130, 140, 150, 160, 170])\n",
    "\n",
    "bmi_results = weight / (height**2) * 730\n",
    "print(bmi_results)"
   ]
  },
  {
   "cell_type": "markdown",
   "metadata": {
    "id": "RSsT8w8ouL5b"
   },
   "source": [
    "### #2 - Create a function that will take in two parameters and will create a random matrix based off of those parameters. Extra: Have additional parameters taken in that allow the user to choose the shape and data type of the matrix."
   ]
  },
  {
   "cell_type": "code",
   "execution_count": 41,
   "metadata": {
    "id": "ygFvj0aeuL5b"
   },
   "outputs": [
    {
     "name": "stdout",
     "output_type": "stream",
     "text": [
      "What number would you like to start with? 1\n",
      "What number would you like to end with? 25\n",
      "How many rows do you want? 5\n",
      "How many columns do you want? 5\n",
      "What data type would you like?\n",
      "1) Float\n",
      "2) Integer2\n",
      "[[ 9  4  2  5  8]\n",
      " [ 7 20 11  1 16]\n",
      " [18  5 15 23 17]\n",
      " [21  4  4 10  6]\n",
      " [11 13 12 22  6]]\n"
     ]
    }
   ],
   "source": [
    "def createMatrix():\n",
    "    n1 = int(input('What number would you like to start with? '))\n",
    "    n2 = int(input('What number would you like to end with? '))\n",
    "    r = int(input('How many rows do you want? '))\n",
    "    c = int(input('How many columns do you want? '))\n",
    "    dT = input(\"What data type would you like?\\n1) Float\\n2) Integer\")\n",
    "    \n",
    "    random_matrix = np.random.uniform(n1, n2, (r, c))\n",
    "    \n",
    "    if dT == 1:\n",
    "        float_matrix = random_matrix.astype(np.float32)\n",
    "        print(float_matrix)\n",
    "    else:\n",
    "        int_matrix = random_matrix.astype(np.int32)\n",
    "        print(int_matrix)\n",
    "\n",
    "createMatrix()\n"
   ]
  },
  {
   "cell_type": "markdown",
   "metadata": {
    "id": "e5mP1UX9uL5c"
   },
   "source": [
    "### #3 - Extra: Open and load the data in the two text files that have the Boston Red Sox hitting data for the past seasons. Compare the difference in the two years by putting the data into an NDArray and running a differencial operation on it. The column to look for will be SLG.\n",
    "\n",
    "Your output should display which year (either 2017 or 2018) was a better year based on SLG"
   ]
  },
  {
   "cell_type": "code",
   "execution_count": 48,
   "metadata": {
    "id": "iAExC-SjuL5c"
   },
   "outputs": [],
   "source": [
    "import csv\n",
    "import numpy as np\n",
    "\n",
    "def load_2017_data(filename, d = ','):\n",
    "    data2017 = np.genfromtxt(filename, delimiter = d, skip_header = 1,\n",
    "                            usecols = np.arange(0,24), invalid_raise = False,\n",
    "                            names = FIELDS, dtype = DATATYPES)\n",
    "    \n",
    "    return data2017\n",
    "\n",
    "def load_2018_data(filename, d = ','):\n",
    "    data2018 = np.genfromtxt(filename, delimiter = d, skip_header = 1,\n",
    "                            usecols = np.arange(0,24), invalid_raise = False,\n",
    "                            names = FIELDS, dtype = DATATYPES)\n",
    "    \n",
    "    return data2018"
   ]
  },
  {
   "cell_type": "code",
   "execution_count": 59,
   "metadata": {
    "id": "P8Rwr8lmuL5e"
   },
   "outputs": [
    {
     "name": "stdout",
     "output_type": "stream",
     "text": [
      "2017 Average SLG: 0.39334782374941785 vs 2018 Average SLG: 0.38750000335276125\n"
     ]
    }
   ],
   "source": [
    "FIELDS = ['Rk', 'Pos', 'Name', 'Age', 'G', 'PA', 'AB', 'R', 'H', '2B', '3B', 'HR', 'RBI', 'SB', 'CS', \n",
    "          'BB', 'SO', 'BA', 'OBP', 'SLG', 'OPS', 'OPS+', 'TB', 'GDP', 'HBP', 'SH', 'SF', 'IBB']\n",
    "\n",
    "DATATYPES = [('rk', 'i'), ('pos', '|S25'), ('name', '|S25'), ('age', 'i'), ('g', 'i'), ('pa', 'i'), ('ab', 'i'),\n",
    "                ('r', 'i'), ('h', 'i'), ('2b', 'i'), ('3b', 'i'), ('hr', 'i'), ('rbi', 'i'), ('sb', 'i'), ('cs', 'i'),\n",
    "                ('bb', 'i'), ('so', 'i'), ('ba', 'f'), ('obp', 'f'), ('slg', 'f'), ('ops', 'f'), ('opsp', 'i'),\n",
    "                ('tb', 'i'), ('gdp', 'i'), ('hbp', 'i'), ('sh', 'i'), ('sf', 'i'), ('ibb', 'i')]\n",
    "\n",
    "#Use this function to actually open the data inside of a NDArray\n",
    "bs2017 = load_2017_data('../numpy/redsox_2017_hitting.txt')\n",
    "bs2018 = load_2018_data('../numpy/redsox_2018_hitting.txt')\n",
    "\n",
    "slg2017 = np.array(bs2017['SLG'])\n",
    "slg2018 = np.array(bs2018['SLG'])\n",
    "\n",
    "slg2017_avg = sum(slg2017) / len(slg2017)\n",
    "slg2018_avg = sum(slg2018) / len(slg2018)\n",
    "\n",
    "print(f'2017 Average SLG: {slg2017_avg} vs 2018 Average SLG: {slg2018_avg}')"
   ]
  }
 ],
 "metadata": {
  "colab": {
   "name": "Copy of Data_Science_Day_1_Exercises-Day1- Homework.ipynb",
   "provenance": []
  },
  "kernelspec": {
   "display_name": "Python 3 (ipykernel)",
   "language": "python",
   "name": "python3"
  },
  "language_info": {
   "codemirror_mode": {
    "name": "ipython",
    "version": 3
   },
   "file_extension": ".py",
   "mimetype": "text/x-python",
   "name": "python",
   "nbconvert_exporter": "python",
   "pygments_lexer": "ipython3",
   "version": "3.11.3"
  }
 },
 "nbformat": 4,
 "nbformat_minor": 1
}
